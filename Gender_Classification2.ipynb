{
 "cells": [
  {
   "cell_type": "code",
   "execution_count": 1,
   "id": "cebe8f5b",
   "metadata": {},
   "outputs": [],
   "source": [
    "import tkinter as tk\n",
    "from tkinter import filedialog\n",
    "from PIL import ImageTk, Image\n",
    "import numpy as np\n",
    "import cv2\n",
    "from tensorflow.keras.models import load_model"
   ]
  },
  {
   "cell_type": "code",
   "execution_count": 2,
   "id": "fd74b109",
   "metadata": {},
   "outputs": [
    {
     "name": "stderr",
     "output_type": "stream",
     "text": [
      "C:\\Users\\Majd\\anaconda3\\Lib\\site-packages\\keras\\src\\layers\\convolutional\\base_conv.py:99: UserWarning: Do not pass an `input_shape`/`input_dim` argument to a layer. When using Sequential models, prefer using an `Input(shape)` object as the first layer in the model instead.\n",
      "  super().__init__(\n",
      "WARNING:absl:Compiled the loaded model, but the compiled metrics have yet to be built. `model.compile_metrics` will be empty until you train or evaluate the model.\n",
      "WARNING:absl:Error in loading the saved optimizer state. As a result, your model is starting with a freshly initialized optimizer.\n"
     ]
    }
   ],
   "source": [
    "# Load the trained model\n",
    "model = load_model('my_model.h5')"
   ]
  },
  {
   "cell_type": "code",
   "execution_count": 4,
   "id": "0a20626f",
   "metadata": {},
   "outputs": [],
   "source": [
    "# Function to classify gender\n",
    "def classify_gender(image_path):\n",
    "    # Preprocess the image\n",
    "    image = cv2.imread(image_path)\n",
    "    image = cv2.resize(image, (128, 128))\n",
    "    image = np.expand_dims(image, axis=0)\n",
    "\n",
    "    # Predict gender\n",
    "    prediction = model.predict(image)\n",
    "    gender = \"Female\" if prediction < 0.5 else \"Male\"\n",
    "    return gender\n",
    "\n",
    "# Function to open file dialog and load image\n",
    "def load_image():\n",
    "    file_path = filedialog.askopenfilename()\n",
    "    image = Image.open(file_path)\n",
    "    image = image.resize((250, 250), resample=Image.BICUBIC)  # Corrected\n",
    "    photo = ImageTk.PhotoImage(image)\n",
    "    label_image.configure(image=photo)\n",
    "    label_image.image = photo\n",
    "    \n",
    "    # Classify gender\n",
    "    gender = classify_gender(file_path)\n",
    "    label_output.config(text=\"Gender: \" + gender)"
   ]
  },
  {
   "cell_type": "code",
   "execution_count": 23,
   "id": "4e948dcc",
   "metadata": {},
   "outputs": [
    {
     "name": "stdout",
     "output_type": "stream",
     "text": [
      "\u001b[1m1/1\u001b[0m \u001b[32m━━━━━━━━━━━━━━━━━━━━\u001b[0m\u001b[37m\u001b[0m \u001b[1m0s\u001b[0m 80ms/step\n"
     ]
    }
   ],
   "source": [
    "# Create the main window\n",
    "window = tk.Tk()\n",
    "window.title(\"Gender Classification App MYM\")\n",
    "\n",
    "# Create a frame for the input\n",
    "frame_input = tk.Frame(window, padx=135, pady=30)\n",
    "frame_input.pack()\n",
    "\n",
    "# Create a frame for the output\n",
    "frame_output = tk.Frame(window, padx=10, pady=10)\n",
    "frame_output.pack()\n",
    "\n",
    "# Create a label for the input image\n",
    "label_image = tk.Label(frame_input)\n",
    "label_image.pack()\n",
    "\n",
    "# Create a button to load image\n",
    "button_load = tk.Button(frame_input, text=\"Load Image\", command=load_image)\n",
    "button_load.pack()\n",
    "\n",
    "# Create a label for the output\n",
    "label_output = tk.Label(frame_output, text=\"\")\n",
    "label_output.pack()\n",
    "\n",
    "# Run the application\n",
    "window.mainloop()"
   ]
  },
  {
   "cell_type": "code",
   "execution_count": null,
   "id": "4a271cc6",
   "metadata": {},
   "outputs": [],
   "source": []
  }
 ],
 "metadata": {
  "kernelspec": {
   "display_name": "Python 3 (ipykernel)",
   "language": "python",
   "name": "python3"
  },
  "language_info": {
   "codemirror_mode": {
    "name": "ipython",
    "version": 3
   },
   "file_extension": ".py",
   "mimetype": "text/x-python",
   "name": "python",
   "nbconvert_exporter": "python",
   "pygments_lexer": "ipython3",
   "version": "3.11.5"
  }
 },
 "nbformat": 4,
 "nbformat_minor": 5
}
