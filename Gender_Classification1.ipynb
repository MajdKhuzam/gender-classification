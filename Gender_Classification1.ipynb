{
 "cells": [
  {
   "cell_type": "code",
   "execution_count": 1,
   "metadata": {
    "id": "HRB_KsZRoOWA"
   },
   "outputs": [],
   "source": [
    "import os\n",
    "import cv2\n",
    "import numpy as np\n",
    "from sklearn.model_selection import train_test_split\n",
    "from tensorflow.keras import layers, models\n",
    "from tensorflow.keras.preprocessing import image"
   ]
  },
  {
   "cell_type": "code",
   "execution_count": 2,
   "metadata": {
    "id": "W1HkzyR7ocRn"
   },
   "outputs": [],
   "source": [
    "# Function to load images and labels from folders names\n",
    "def load_data(data_dir, img_width, img_height):\n",
    "    images = []\n",
    "    labels = []\n",
    "    label_mapping = {'female': 0, 'male': 1}\n",
    "    for folder in os.listdir(data_dir):\n",
    "        if folder.startswith('.'):  # Skip hidden folders\n",
    "            continue\n",
    "        folder_path = os.path.join(data_dir, folder)\n",
    "        label = label_mapping[folder.lower()]  # Get the integer label\n",
    "        for file in os.listdir(folder_path):\n",
    "            if file.endswith('.jpg'):\n",
    "                image_path = os.path.join(folder_path, file)\n",
    "                image = cv2.imread(image_path)\n",
    "                image = cv2.resize(image, (img_width, img_height))  # Resize images\n",
    "                images.append(image)\n",
    "                labels.append(label)\n",
    "    return np.array(images), np.array(labels)"
   ]
  },
  {
   "cell_type": "code",
   "execution_count": 3,
   "metadata": {
    "id": "HpGf4CdpohGh"
   },
   "outputs": [],
   "source": [
    "# Load and preprocess the dataset\n",
    "path = '/content/drive/MyDrive/Colab Notebooks/gender.v1i.folder/train'\n",
    "images, labels = load_data(path,128,128)\n",
    "labels = labels.astype(np.int32)"
   ]
  },
  {
   "cell_type": "code",
   "execution_count": 4,
   "metadata": {
    "id": "rCX-7aEtohkp"
   },
   "outputs": [],
   "source": [
    "# Split the dataset into training and testing sets\n",
    "X_train, X_test, y_train, y_test = train_test_split(images, labels, test_size=0.2, random_state=42)"
   ]
  },
  {
   "cell_type": "code",
   "execution_count": 5,
   "metadata": {
    "id": "I4q7EP4Woj6U"
   },
   "outputs": [],
   "source": [
    "# Define the CNN model\n",
    "model = models.Sequential([\n",
    "    layers.Conv2D(32, (3, 3), activation='relu', input_shape=(128, 128, 3)),\n",
    "    layers.MaxPooling2D((2, 2)),\n",
    "    layers.Conv2D(64, (3, 3), activation='relu'),\n",
    "    layers.MaxPooling2D((2, 2)),\n",
    "    layers.Conv2D(64, (3, 3), activation='relu'),\n",
    "    layers.Flatten(),\n",
    "    layers.Dense(64, activation='relu'),\n",
    "    layers.Dense(1, activation='sigmoid')\n",
    "])\n",
    "\n",
    "# Compile the model\n",
    "model.compile(optimizer='adam',\n",
    "              loss='binary_crossentropy',\n",
    "              metrics=['accuracy'])"
   ]
  },
  {
   "cell_type": "code",
   "execution_count": 6,
   "metadata": {
    "colab": {
     "base_uri": "https://localhost:8080/"
    },
    "id": "XWapIEg75P66",
    "outputId": "1409ac22-9271-4c0e-cadd-f80e78d0200f"
   },
   "outputs": [
    {
     "name": "stdout",
     "output_type": "stream",
     "text": [
      "Epoch 1/10\n",
      "175/175 [==============================] - 12s 19ms/step - loss: 6.9056 - accuracy: 0.7877 - val_loss: 0.2657 - val_accuracy: 0.8921\n",
      "Epoch 2/10\n",
      "175/175 [==============================] - 3s 15ms/step - loss: 0.2191 - accuracy: 0.9130 - val_loss: 0.2996 - val_accuracy: 0.8636\n",
      "Epoch 3/10\n",
      "175/175 [==============================] - 3s 16ms/step - loss: 0.1747 - accuracy: 0.9323 - val_loss: 0.2425 - val_accuracy: 0.9064\n",
      "Epoch 4/10\n",
      "175/175 [==============================] - 3s 17ms/step - loss: 0.1344 - accuracy: 0.9477 - val_loss: 0.2305 - val_accuracy: 0.9171\n",
      "Epoch 5/10\n",
      "175/175 [==============================] - 3s 17ms/step - loss: 0.0815 - accuracy: 0.9696 - val_loss: 0.2689 - val_accuracy: 0.9107\n",
      "Epoch 6/10\n",
      "175/175 [==============================] - 3s 16ms/step - loss: 0.0435 - accuracy: 0.9823 - val_loss: 0.2755 - val_accuracy: 0.9271\n",
      "Epoch 7/10\n",
      "175/175 [==============================] - 3s 16ms/step - loss: 0.0349 - accuracy: 0.9886 - val_loss: 0.4221 - val_accuracy: 0.8929\n",
      "Epoch 8/10\n",
      "175/175 [==============================] - 3s 17ms/step - loss: 0.0254 - accuracy: 0.9912 - val_loss: 0.3880 - val_accuracy: 0.9071\n",
      "Epoch 9/10\n",
      "175/175 [==============================] - 3s 15ms/step - loss: 0.0431 - accuracy: 0.9862 - val_loss: 0.4275 - val_accuracy: 0.9064\n",
      "Epoch 10/10\n",
      "175/175 [==============================] - 3s 17ms/step - loss: 0.0360 - accuracy: 0.9895 - val_loss: 0.3882 - val_accuracy: 0.9100\n"
     ]
    },
    {
     "data": {
      "text/plain": [
       "<keras.src.callbacks.History at 0x7f323317b700>"
      ]
     },
     "execution_count": 6,
     "metadata": {},
     "output_type": "execute_result"
    }
   ],
   "source": [
    "# Train the model\n",
    "model.fit(X_train, y_train, epochs=10, batch_size=32, validation_data=(X_test, y_test))"
   ]
  },
  {
   "cell_type": "code",
   "execution_count": 7,
   "metadata": {
    "colab": {
     "base_uri": "https://localhost:8080/"
    },
    "id": "u6FTs0J2oqzl",
    "outputId": "176435f0-cffd-4111-c964-691b5b271072"
   },
   "outputs": [
    {
     "name": "stdout",
     "output_type": "stream",
     "text": [
      "44/44 [==============================] - 0s 6ms/step - loss: 0.3882 - accuracy: 0.9100\n",
      "Test Loss: 0.38815367221832275\n",
      "Test Accuracy: 0.9100000262260437\n"
     ]
    }
   ],
   "source": [
    "# Evaluate the model\n",
    "test_loss, test_accuracy = model.evaluate(X_test, y_test)\n",
    "print(\"Test Loss:\", test_loss)\n",
    "print(\"Test Accuracy:\", test_accuracy)"
   ]
  },
  {
   "cell_type": "code",
   "execution_count": 8,
   "metadata": {
    "colab": {
     "base_uri": "https://localhost:8080/"
    },
    "id": "GuEbweRNotJu",
    "outputId": "f1044f5b-5998-4165-c51a-b18af1d90db7"
   },
   "outputs": [
    {
     "name": "stdout",
     "output_type": "stream",
     "text": [
      "Drive already mounted at /content/drive; to attempt to forcibly remount, call drive.mount(\"/content/drive\", force_remount=True).\n"
     ]
    }
   ],
   "source": [
    "from google.colab import drive\n",
    "drive.mount('/content/drive')"
   ]
  },
  {
   "cell_type": "code",
   "execution_count": 9,
   "metadata": {
    "colab": {
     "base_uri": "https://localhost:8080/"
    },
    "id": "d1PLxq7nox0G",
    "outputId": "83c67eb5-b99a-470d-e11a-e71eec19bb6a"
   },
   "outputs": [
    {
     "name": "stderr",
     "output_type": "stream",
     "text": [
      "/usr/local/lib/python3.10/dist-packages/keras/src/engine/training.py:3103: UserWarning: You are saving your model as an HDF5 file via `model.save()`. This file format is considered legacy. We recommend using instead the native Keras format, e.g. `model.save('my_model.keras')`.\n",
      "  saving_api.save_model(\n"
     ]
    }
   ],
   "source": [
    "model.save('my_model.h5')"
   ]
  },
  {
   "cell_type": "code",
   "execution_count": 10,
   "metadata": {
    "id": "q6yUpJ2io1h9"
   },
   "outputs": [],
   "source": [
    "# Function to preprocess user input image\n",
    "def preprocess_image(image_path, target_size):\n",
    "    img = image.load_img(image_path, target_size=target_size)\n",
    "    img_array = image.img_to_array(img)\n",
    "    img_array = np.expand_dims(img_array, axis=0)  # Add batch dimension\n",
    "    return img_array\n",
    "\n",
    "# Function to make prediction using the loaded model\n",
    "def predict_gender(image_array, model):\n",
    "    # Perform prediction\n",
    "    prediction = model.predict(image_array)\n",
    "    # Map prediction to class label\n",
    "    if prediction[0] > 0.5:\n",
    "        gender = 'Male'\n",
    "    else:\n",
    "        gender = 'Female'\n",
    "    return gender"
   ]
  },
  {
   "cell_type": "code",
   "execution_count": 11,
   "metadata": {
    "colab": {
     "base_uri": "https://localhost:8080/"
    },
    "id": "piRWvnMkcP0D",
    "outputId": "49f6266f-0890-4f39-cb13-4a6dcd79fcfb"
   },
   "outputs": [
    {
     "name": "stdout",
     "output_type": "stream",
     "text": [
      "1/1 [==============================] - 0s 386ms/step\n",
      "Predicted gender: Male\n"
     ]
    }
   ],
   "source": [
    "# Preprocess user input image\n",
    "image_path = '/content/drive/MyDrive/Colab Notebooks/gender.v1i.folder/test/Male/177404_jpg.rf.ab8423701037c25bed57ec81844b58c9.jpg'\n",
    "input_size = (128, 128)  # Adjust this size according to your model's input size\n",
    "processed_image = preprocess_image(image_path, input_size)\n",
    "\n",
    "# Perform prediction\n",
    "predicted_gender = predict_gender(processed_image, model)\n",
    "print(\"Predicted gender:\", predicted_gender)"
   ]
  },
  {
   "cell_type": "code",
   "execution_count": null,
   "metadata": {
    "id": "Em0V1yML-2uY"
   },
   "outputs": [],
   "source": []
  }
 ],
 "metadata": {
  "accelerator": "GPU",
  "colab": {
   "gpuType": "T4",
   "provenance": []
  },
  "kernelspec": {
   "display_name": "Python 3 (ipykernel)",
   "language": "python",
   "name": "python3"
  },
  "language_info": {
   "codemirror_mode": {
    "name": "ipython",
    "version": 3
   },
   "file_extension": ".py",
   "mimetype": "text/x-python",
   "name": "python",
   "nbconvert_exporter": "python",
   "pygments_lexer": "ipython3",
   "version": "3.11.5"
  }
 },
 "nbformat": 4,
 "nbformat_minor": 1
}
